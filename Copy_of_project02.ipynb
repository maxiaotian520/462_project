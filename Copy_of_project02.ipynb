{
  "nbformat": 4,
  "nbformat_minor": 0,
  "metadata": {
    "colab": {
      "name": "Copy of project02.ipynb",
      "provenance": [],
      "collapsed_sections": [],
      "authorship_tag": "ABX9TyNas8A/E7ikLJHgkKx8eHNl",
      "include_colab_link": true
    },
    "kernelspec": {
      "name": "python3",
      "display_name": "Python 3"
    }
  },
  "cells": [
    {
      "cell_type": "markdown",
      "metadata": {
        "id": "view-in-github",
        "colab_type": "text"
      },
      "source": [
        "<a href=\"https://colab.research.google.com/github/maxiaotian520/462_project/blob/master/Copy_of_project02.ipynb\" target=\"_parent\"><img src=\"https://colab.research.google.com/assets/colab-badge.svg\" alt=\"Open In Colab\"/></a>"
      ]
    },
    {
      "cell_type": "code",
      "metadata": {
        "id": "Q7MnrkjSNDz-",
        "colab_type": "code",
        "colab": {}
      },
      "source": [
        "import numpy as np\n",
        "import matplotlib.pyplot as plt\n",
        "from matplotlib import colors\n",
        "from sklearn.linear_model import LogisticRegression\n",
        "from sklearn import datasets\n",
        "import pandas as pd\n",
        "#from sklearn import metrics\n",
        "%matplotlib inline\n",
        "data = np.loadtxt('dataset1.csv',delimiter=',')\n",
        "x_train01 = data[:100,:2]\n",
        "t_train01 = data[:100,2][:,None]\n",
        "x_test01 = data[100:201,:2]\n",
        "t_test01 = data[100:201,2][:,None]\n"
      ],
      "execution_count": 0,
      "outputs": []
    },
    {
      "cell_type": "markdown",
      "metadata": {
        "id": "BUZmKGDJdOgB",
        "colab_type": "text"
      },
      "source": [
        "**01. Use logistic regression to fit and score a binary classifier to dataset 1. How accurate are the model’s predictions?**"
      ]
    },
    {
      "cell_type": "code",
      "metadata": {
        "id": "LYxqmxT2Ov8u",
        "colab_type": "code",
        "colab": {}
      },
      "source": [
        "logreg = LogisticRegression(C=1e5)"
      ],
      "execution_count": 0,
      "outputs": []
    },
    {
      "cell_type": "code",
      "metadata": {
        "id": "ILyH99olOwo9",
        "colab_type": "code",
        "outputId": "6991914b-0d7e-4296-e844-d8f6b28e247c",
        "colab": {
          "base_uri": "https://localhost:8080/",
          "height": 156
        }
      },
      "source": [
        "# Create an instance of Logistic Regression Classifier and fit the data.\n",
        "logreg.fit(x_train01, t_train01)"
      ],
      "execution_count": 0,
      "outputs": [
        {
          "output_type": "stream",
          "text": [
            "/usr/local/lib/python3.6/dist-packages/sklearn/utils/validation.py:760: DataConversionWarning: A column-vector y was passed when a 1d array was expected. Please change the shape of y to (n_samples, ), for example using ravel().\n",
            "  y = column_or_1d(y, warn=True)\n"
          ],
          "name": "stderr"
        },
        {
          "output_type": "execute_result",
          "data": {
            "text/plain": [
              "LogisticRegression(C=100000.0, class_weight=None, dual=False,\n",
              "                   fit_intercept=True, intercept_scaling=1, l1_ratio=None,\n",
              "                   max_iter=100, multi_class='auto', n_jobs=None, penalty='l2',\n",
              "                   random_state=None, solver='lbfgs', tol=0.0001, verbose=0,\n",
              "                   warm_start=False)"
            ]
          },
          "metadata": {
            "tags": []
          },
          "execution_count": 320
        }
      ]
    },
    {
      "cell_type": "code",
      "metadata": {
        "id": "kZ2cKo0lRsdi",
        "colab_type": "code",
        "colab": {}
      },
      "source": [
        "# make class predictions for the testing set\n",
        "#y_pred = logreg.predict(x_train01)\n",
        "#print(y_pred)"
      ],
      "execution_count": 0,
      "outputs": []
    },
    {
      "cell_type": "code",
      "metadata": {
        "id": "RxT9P2pFXcdp",
        "colab_type": "code",
        "outputId": "13cfc7cd-e94f-41cc-fcd2-3e8f0d34c245",
        "colab": {
          "base_uri": "https://localhost:8080/",
          "height": 34
        }
      },
      "source": [
        "# calculate accuracy\n",
        " #print(metrics.accuracy_score(t_test01, y_pred))\n",
        " print(logreg.score(x_test01, t_test01))"
      ],
      "execution_count": 0,
      "outputs": [
        {
          "output_type": "stream",
          "text": [
            "1.0\n"
          ],
          "name": "stdout"
        }
      ]
    },
    {
      "cell_type": "markdown",
      "metadata": {
        "id": "f_IRkTgJdS0o",
        "colab_type": "text"
      },
      "source": [
        "**02. Repeat experiment (1) for dataset 2. How well does it score?**"
      ]
    },
    {
      "cell_type": "code",
      "metadata": {
        "id": "LVBBSJIEdba7",
        "colab_type": "code",
        "colab": {}
      },
      "source": [
        "data = np.loadtxt('dataset2.csv',delimiter=',')\n",
        "x_train02 = data[:100,:2]\n",
        "t_train02 = data[:100,2][:,None]\n",
        "x_test02 = data[100:201,:2]\n",
        "t_test02 = data[100:201,2][:,None]"
      ],
      "execution_count": 0,
      "outputs": []
    },
    {
      "cell_type": "code",
      "metadata": {
        "id": "iUIli27cdj8V",
        "colab_type": "code",
        "colab": {}
      },
      "source": [
        "logreg01 = LogisticRegression(C=1e5)"
      ],
      "execution_count": 0,
      "outputs": []
    },
    {
      "cell_type": "code",
      "metadata": {
        "id": "s-xIekvrdma-",
        "colab_type": "code",
        "outputId": "55400cd3-55fc-4863-b6d1-1549a9da73ec",
        "colab": {
          "base_uri": "https://localhost:8080/",
          "height": 156
        }
      },
      "source": [
        "# Create an instance of Logistic Regression Classifier and fit the data.\n",
        "logreg01.fit(x_train02, t_train02)"
      ],
      "execution_count": 0,
      "outputs": [
        {
          "output_type": "stream",
          "text": [
            "/usr/local/lib/python3.6/dist-packages/sklearn/utils/validation.py:760: DataConversionWarning: A column-vector y was passed when a 1d array was expected. Please change the shape of y to (n_samples, ), for example using ravel().\n",
            "  y = column_or_1d(y, warn=True)\n"
          ],
          "name": "stderr"
        },
        {
          "output_type": "execute_result",
          "data": {
            "text/plain": [
              "LogisticRegression(C=100000.0, class_weight=None, dual=False,\n",
              "                   fit_intercept=True, intercept_scaling=1, l1_ratio=None,\n",
              "                   max_iter=100, multi_class='auto', n_jobs=None, penalty='l2',\n",
              "                   random_state=None, solver='lbfgs', tol=0.0001, verbose=0,\n",
              "                   warm_start=False)"
            ]
          },
          "metadata": {
            "tags": []
          },
          "execution_count": 325
        }
      ]
    },
    {
      "cell_type": "code",
      "metadata": {
        "id": "hWvtva60do_z",
        "colab_type": "code",
        "colab": {}
      },
      "source": [
        "# make class predictions for the testing set\n",
        "#y_pred = logreg.predict(x_train02)\n",
        "#print(y_pred)"
      ],
      "execution_count": 0,
      "outputs": []
    },
    {
      "cell_type": "code",
      "metadata": {
        "id": "Q1XWyy6QdqsO",
        "colab_type": "code",
        "outputId": "3f118603-e9d0-421b-d357-52714dd4ff90",
        "colab": {
          "base_uri": "https://localhost:8080/",
          "height": 34
        }
      },
      "source": [
        "# calculate accuracy\n",
        "#print(metrics.accuracy_score(t_test02, y_pred))\n",
        "print(logreg01.score(x_test02, t_test02))"
      ],
      "execution_count": 0,
      "outputs": [
        {
          "output_type": "stream",
          "text": [
            "0.51\n"
          ],
          "name": "stdout"
        }
      ]
    },
    {
      "cell_type": "markdown",
      "metadata": {
        "id": "v-7qGl1feBL2",
        "colab_type": "text"
      },
      "source": [
        "**3. Create scatterplots for dataset 1 and dataset 2, plotting points from class 0 with a different color and marker from points in class 1. What accounts for the discrepancies between experiments (1) and (2)?**"
      ]
    },
    {
      "cell_type": "code",
      "metadata": {
        "id": "HvXB96PCeeXz",
        "colab_type": "code",
        "colab": {}
      },
      "source": [
        "#plotting dataset01 scatterplots\n",
        "data = np.loadtxt('dataset1.csv',delimiter=',')\n",
        "x = data[:,:2]\n",
        "t = data[:,2][:,None]"
      ],
      "execution_count": 0,
      "outputs": []
    },
    {
      "cell_type": "code",
      "metadata": {
        "id": "IrrVU6mseEi7",
        "colab_type": "code",
        "outputId": "716c1958-e5b4-4e86-de45-8abd1f498690",
        "colab": {
          "base_uri": "https://localhost:8080/",
          "height": 265
        }
      },
      "source": [
        "plt.figure()\n",
        "styles = ['ro','bo']\n",
        "classes = np.unique(t)\n",
        "for i,classn in enumerate(classes):\n",
        "    pos = np.where(t==classn)[0]\n",
        "    plt.plot(x[pos,0],x[pos,1],styles[i])"
      ],
      "execution_count": 0,
      "outputs": [
        {
          "output_type": "display_data",
          "data": {
            "image/png": "[encoded data removed]",
            "text/plain": [
              "<Figure size 432x288 with 1 Axes>"
            ]
          },
          "metadata": {
            "tags": [],
            "needs_background": "light"
          }
        }
      ]
    },
    {
      "cell_type": "code",
      "metadata": {
        "id": "JlPjRmLge207",
        "colab_type": "code",
        "colab": {}
      },
      "source": [
        "#plotting dataset02 scatterplots\n",
        "data = np.loadtxt('dataset2.csv',delimiter=',')\n",
        "x = data[:,:2]\n",
        "t = data[:,2][:,None]"
      ],
      "execution_count": 0,
      "outputs": []
    },
    {
      "cell_type": "code",
      "metadata": {
        "id": "ltAEoDz9e6gR",
        "colab_type": "code",
        "outputId": "11acfb87-2d2f-4842-bfea-2fbd8817889b",
        "colab": {
          "base_uri": "https://localhost:8080/",
          "height": 265
        }
      },
      "source": [
        "plt.figure()\n",
        "styles = ['ro','bo']\n",
        "classes = np.unique(t)\n",
        "for i,classn in enumerate(classes):\n",
        "    pos = np.where(t==classn)[0]\n",
        "    plt.plot(x[pos,0],x[pos,1],styles[i])"
      ],
      "execution_count": 0,
      "outputs": [
        {
          "output_type": "display_data",
          "data": {
            "image/png": "[encoded data removed]",
            "text/plain": [
              "<Figure size 432x288 with 1 Axes>"
            ]
          },
          "metadata": {
            "tags": [],
            "needs_background": "light"
          }
        }
      ]
    },
    {
      "cell_type": "markdown",
      "metadata": {
        "id": "p21m3RQGeBiP",
        "colab_type": "text"
      },
      "source": [
        "**04. Fit and score Gaussian Naive Bayes classifiers for each dataset. How well do these classifiers score compared to logistic regression?**"
      ]
    },
    {
      "cell_type": "code",
      "metadata": {
        "id": "SvGkFwu0eKpX",
        "colab_type": "code",
        "colab": {}
      },
      "source": [
        "from sklearn.naive_bayes import GaussianNB"
      ],
      "execution_count": 0,
      "outputs": []
    },
    {
      "cell_type": "code",
      "metadata": {
        "id": "UvRlFF4vfmc2",
        "colab_type": "code",
        "outputId": "a5ae832f-43b1-4b04-976b-9a982752d5cf",
        "colab": {
          "base_uri": "https://localhost:8080/",
          "height": 88
        }
      },
      "source": [
        "#fit Gaussian Naive Bayes classifiers for dataset01\n",
        "clf01 = GaussianNB()\n",
        "clf01.fit(x_train01, t_train01)\n",
        "#Gpred = clf.predict(x_test01)"
      ],
      "execution_count": 0,
      "outputs": [
        {
          "output_type": "stream",
          "text": [
            "/usr/local/lib/python3.6/dist-packages/sklearn/naive_bayes.py:206: DataConversionWarning: A column-vector y was passed when a 1d array was expected. Please change the shape of y to (n_samples, ), for example using ravel().\n",
            "  y = column_or_1d(y, warn=True)\n"
          ],
          "name": "stderr"
        },
        {
          "output_type": "execute_result",
          "data": {
            "text/plain": [
              "GaussianNB(priors=None, var_smoothing=1e-09)"
            ]
          },
          "metadata": {
            "tags": []
          },
          "execution_count": 333
        }
      ]
    },
    {
      "cell_type": "code",
      "metadata": {
        "id": "PiFNVUlijQss",
        "colab_type": "code",
        "outputId": "ff884dba-2234-412a-de8b-72583248e65f",
        "colab": {
          "base_uri": "https://localhost:8080/",
          "height": 34
        }
      },
      "source": [
        "#score Gaussian Naive Bayes classifiers for dataset01\n",
        "# def score(self, X, y, sample_weight=None):\n",
        "#         from .metrics import accuracy_score\n",
        "#         return accuracy_score(y, self.predict(X), sample_weight=sample_weight)\n",
        "print(clf01.score(x_test01, t_test01))"
      ],
      "execution_count": 0,
      "outputs": [
        {
          "output_type": "stream",
          "text": [
            "1.0\n"
          ],
          "name": "stdout"
        }
      ]
    },
    {
      "cell_type": "code",
      "metadata": {
        "id": "ig2sw4sdkRar",
        "colab_type": "code",
        "outputId": "045927d6-b971-4d4a-c0ff-17dc97f2d3b8",
        "colab": {
          "base_uri": "https://localhost:8080/",
          "height": 88
        }
      },
      "source": [
        "#fit Gaussian Naive Bayes classifiers for dataset02\n",
        "clf02 = GaussianNB()\n",
        "clf02.fit(x_train02, t_train02)\n",
        "#Gpred02 = clf.predict(x_test02)"
      ],
      "execution_count": 0,
      "outputs": [
        {
          "output_type": "stream",
          "text": [
            "/usr/local/lib/python3.6/dist-packages/sklearn/naive_bayes.py:206: DataConversionWarning: A column-vector y was passed when a 1d array was expected. Please change the shape of y to (n_samples, ), for example using ravel().\n",
            "  y = column_or_1d(y, warn=True)\n"
          ],
          "name": "stderr"
        },
        {
          "output_type": "execute_result",
          "data": {
            "text/plain": [
              "GaussianNB(priors=None, var_smoothing=1e-09)"
            ]
          },
          "metadata": {
            "tags": []
          },
          "execution_count": 335
        }
      ]
    },
    {
      "cell_type": "code",
      "metadata": {
        "id": "Ng7U04i0kZTX",
        "colab_type": "code",
        "outputId": "e7eeb13b-99cd-4986-ba62-2fe49eded478",
        "colab": {
          "base_uri": "https://localhost:8080/",
          "height": 34
        }
      },
      "source": [
        "#score Gaussian Naive Bayes classifiers for dataset02\n",
        "print(clf02.score(x_test02, t_test02))\n",
        "#print(metrics.accuracy_score(t_test02, Gpred02))"
      ],
      "execution_count": 0,
      "outputs": [
        {
          "output_type": "stream",
          "text": [
            "1.0\n"
          ],
          "name": "stdout"
        }
      ]
    },
    {
      "cell_type": "markdown",
      "metadata": {
        "id": "waQntFfCAfDK",
        "colab_type": "text"
      },
      "source": [
        "**For dataset1 and dataset2, Gaussian Naive Bayes classifier scores better than binary classifer.**"
      ]
    },
    {
      "cell_type": "markdown",
      "metadata": {
        "id": "QEZFIhy7BOJ0",
        "colab_type": "text"
      },
      "source": [
        "**05. Repeat experiment (4) with K-Nearest Neighbor classifiers.**"
      ]
    },
    {
      "cell_type": "code",
      "metadata": {
        "id": "l91nUMDYBRjx",
        "colab_type": "code",
        "colab": {}
      },
      "source": [
        "from sklearn.neighbors import KNeighborsClassifier"
      ],
      "execution_count": 0,
      "outputs": []
    },
    {
      "cell_type": "code",
      "metadata": {
        "id": "xytlVrSWB7R1",
        "colab_type": "code",
        "outputId": "222bb532-fea6-4202-8195-edd77e9c17cb",
        "colab": {
          "base_uri": "https://localhost:8080/",
          "height": 122
        }
      },
      "source": [
        "#fit K-Nearest Neighbor classifiers for dataset01\n",
        "neigh01 = KNeighborsClassifier()\n",
        "neigh01.fit(x_train01, t_train01)"
      ],
      "execution_count": 0,
      "outputs": [
        {
          "output_type": "stream",
          "text": [
            "/usr/local/lib/python3.6/dist-packages/ipykernel_launcher.py:2: DataConversionWarning: A column-vector y was passed when a 1d array was expected. Please change the shape of y to (n_samples, ), for example using ravel().\n",
            "  \n"
          ],
          "name": "stderr"
        },
        {
          "output_type": "execute_result",
          "data": {
            "text/plain": [
              "KNeighborsClassifier(algorithm='auto', leaf_size=30, metric='minkowski',\n",
              "                     metric_params=None, n_jobs=None, n_neighbors=5, p=2,\n",
              "                     weights='uniform')"
            ]
          },
          "metadata": {
            "tags": []
          },
          "execution_count": 338
        }
      ]
    },
    {
      "cell_type": "code",
      "metadata": {
        "id": "ovq_4uq6EAh4",
        "colab_type": "code",
        "colab": {}
      },
      "source": [
        "#Kpred = neigh.predict(x_test01)"
      ],
      "execution_count": 0,
      "outputs": []
    },
    {
      "cell_type": "code",
      "metadata": {
        "id": "DBn6t1dGETPq",
        "colab_type": "code",
        "outputId": "dc541290-5860-4a0e-df60-5d1ee34f9e73",
        "colab": {
          "base_uri": "https://localhost:8080/",
          "height": 34
        }
      },
      "source": [
        "#score K-Nearest Neighbor classifier for dataset01\n",
        "#print(metrics.accuracy_score(t_test01, Kpred))\n",
        "neigh01.score(x_test01, t_test01)"
      ],
      "execution_count": 0,
      "outputs": [
        {
          "output_type": "execute_result",
          "data": {
            "text/plain": [
              "1.0"
            ]
          },
          "metadata": {
            "tags": []
          },
          "execution_count": 340
        }
      ]
    },
    {
      "cell_type": "code",
      "metadata": {
        "id": "ztRX-oDoIh48",
        "colab_type": "code",
        "outputId": "3f4fa2e2-dd32-4ae1-bc90-d391b261bd12",
        "colab": {
          "base_uri": "https://localhost:8080/",
          "height": 122
        }
      },
      "source": [
        "#fit K-Nearest Neighbor classifiers for dataset02\n",
        "neigh02 = KNeighborsClassifier()\n",
        "neigh02.fit(x_train02, t_train02)"
      ],
      "execution_count": 0,
      "outputs": [
        {
          "output_type": "stream",
          "text": [
            "/usr/local/lib/python3.6/dist-packages/ipykernel_launcher.py:2: DataConversionWarning: A column-vector y was passed when a 1d array was expected. Please change the shape of y to (n_samples, ), for example using ravel().\n",
            "  \n"
          ],
          "name": "stderr"
        },
        {
          "output_type": "execute_result",
          "data": {
            "text/plain": [
              "KNeighborsClassifier(algorithm='auto', leaf_size=30, metric='minkowski',\n",
              "                     metric_params=None, n_jobs=None, n_neighbors=5, p=2,\n",
              "                     weights='uniform')"
            ]
          },
          "metadata": {
            "tags": []
          },
          "execution_count": 341
        }
      ]
    },
    {
      "cell_type": "code",
      "metadata": {
        "id": "gAgIBaVHI2Iq",
        "colab_type": "code",
        "colab": {}
      },
      "source": [
        "#Kpred01 = neigh.predict(x_test02)"
      ],
      "execution_count": 0,
      "outputs": []
    },
    {
      "cell_type": "code",
      "metadata": {
        "id": "n5_3QIaeI4WG",
        "colab_type": "code",
        "outputId": "6403f391-a607-40c2-cefa-0805098a25ca",
        "colab": {
          "base_uri": "https://localhost:8080/",
          "height": 34
        }
      },
      "source": [
        "#score K-Nearest Neighbor classifier for dataset02\n",
        "#print(metrics.accuracy_score(t_test02, Kpred01))\n",
        "print(neigh02.score(x_test02, t_test02))"
      ],
      "execution_count": 0,
      "outputs": [
        {
          "output_type": "stream",
          "text": [
            "1.0\n"
          ],
          "name": "stdout"
        }
      ]
    },
    {
      "cell_type": "markdown",
      "metadata": {
        "id": "2YW8ScYLKTE6",
        "colab_type": "text"
      },
      "source": [
        "**06. Using the second half of the Python code for Figure 9.2 - Simple Gaussian Naive Bayes Classification from Statistics, Data Mining, and Machine Learning in Astronomy, 2nd Edition as a guide, plot the decision boundaries for each classifier and dataset.**"
      ]
    },
    {
      "cell_type": "markdown",
      "metadata": {
        "id": "-glFsgKtuBt1",
        "colab_type": "text"
      },
      "source": [
        "     **6.1 Gaussian Naive Bayes classifiers for dataset01**"
      ]
    },
    {
      "cell_type": "code",
      "metadata": {
        "id": "EZfhjMgFKVsO",
        "colab_type": "code",
        "colab": {}
      },
      "source": [
        "from sklearn.naive_bayes import GaussianNB"
      ],
      "execution_count": 0,
      "outputs": []
    },
    {
      "cell_type": "code",
      "metadata": {
        "id": "YczF9BjuPvat",
        "colab_type": "code",
        "outputId": "5d84b03b-7c3a-499d-a966-306a18d54735",
        "colab": {
          "base_uri": "https://localhost:8080/",
          "height": 71
        }
      },
      "source": [
        "# Fit the Naive Bayes classifier\n",
        "clf = GaussianNB()\n",
        "clf.fit(x_train01, t_train01)\n",
        "\n",
        "# predict the classification probabilities on a grid\n",
        "xlim = (-10, 40)\n",
        "ylim = (-10, 40)\n",
        "xx, yy = np.meshgrid(np.linspace(xlim[0], xlim[1], 71),\n",
        "                     np.linspace(ylim[0], ylim[1], 81))\n",
        "T = clf.predict_proba(np.c_[xx.ravel(), yy.ravel()])\n",
        "T = T[:, 1].reshape(xx.shape)"
      ],
      "execution_count": 0,
      "outputs": [
        {
          "output_type": "stream",
          "text": [
            "/usr/local/lib/python3.6/dist-packages/sklearn/naive_bayes.py:206: DataConversionWarning: A column-vector y was passed when a 1d array was expected. Please change the shape of y to (n_samples, ), for example using ravel().\n",
            "  y = column_or_1d(y, warn=True)\n"
          ],
          "name": "stderr"
        }
      ]
    },
    {
      "cell_type": "code",
      "metadata": {
        "id": "fvdlEXJAdMKj",
        "colab_type": "code",
        "colab": {}
      },
      "source": [
        "#pip install jcvi"
      ],
      "execution_count": 0,
      "outputs": []
    },
    {
      "cell_type": "code",
      "metadata": {
        "id": "jiNWc9SiPzVa",
        "colab_type": "code",
        "outputId": "ee073b9b-3aca-4952-f4fe-6ed45659d795",
        "colab": {
          "base_uri": "https://localhost:8080/",
          "height": 270
        }
      },
      "source": [
        "# Plot the results\n",
        "fig = plt.figure(figsize=(5, 3.75))\n",
        "ax = fig.add_subplot(111)\n",
        "ax.scatter(x_test01[:, 0], x_test01[:, 1], c=t_test01, cmap=plt.cm.binary, zorder=2)\n",
        "\n",
        "ax.contour(xx, yy, T, [0.5], colors='k')\n",
        "\n",
        "ax.set_xlim(xlim)\n",
        "ax.set_ylim(ylim)\n",
        "\n",
        "ax.set_xlabel('$x$')\n",
        "ax.set_ylabel('$y$')\n",
        "\n",
        "plt.show()"
      ],
      "execution_count": 0,
      "outputs": [
        {
          "output_type": "display_data",
          "data": {
            "image/png": "[encoded data removed]",
            "text/plain": [
              "<Figure size 360x270 with 1 Axes>"
            ]
          },
          "metadata": {
            "tags": [],
            "needs_background": "light"
          }
        }
      ]
    },
    {
      "cell_type": "markdown",
      "metadata": {
        "id": "qkH-cz4OuSMe",
        "colab_type": "text"
      },
      "source": [
        "    6.2**6.1 Gaussian Naive Bayes classifiers for dataset02** "
      ]
    }
  ]
}